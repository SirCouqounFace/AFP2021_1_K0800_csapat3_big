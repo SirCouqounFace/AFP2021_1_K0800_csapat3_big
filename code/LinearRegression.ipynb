{
  "nbformat": 4,
  "nbformat_minor": 0,
  "metadata": {
    "colab": {
      "name": "Untitled3.ipynb",
      "provenance": [],
      "include_colab_link": true
    },
    "kernelspec": {
      "name": "python3",
      "display_name": "Python 3"
    },
    "language_info": {
      "name": "python"
    }
  },
  "cells": [
    {
      "cell_type": "markdown",
      "metadata": {
        "id": "view-in-github",
        "colab_type": "text"
      },
      "source": [
        "<a href=\"https://colab.research.google.com/github/SirCouqounFace/AFP2021_1_K0800_csapat3_big/blob/NeuralNetwork/code/LinearRegression.ipynb\" target=\"_parent\"><img src=\"https://colab.research.google.com/assets/colab-badge.svg\" alt=\"Open In Colab\"/></a>"
      ]
    },
    {
      "cell_type": "code",
      "metadata": {
        "id": "XGuOxqsDdzyf"
      },
      "source": [
        "import numpy as np  \n",
        "import pandas as pd \n",
        "import matplotlib.pyplot as plt  "
      ],
      "execution_count": 1,
      "outputs": []
    },
    {
      "cell_type": "code",
      "metadata": {
        "id": "ndULgkcvfqYL"
      },
      "source": [
        "url = \"https://raw.githubusercontent.com/SirCouqounFace/AFP2021_1_K0800_csapat3_big/NeuralNetwork/code/data_Eger.csv\"\n",
        "dataset =pd.read_csv(url,encoding= 'unicode_escape')\n",
        "dataset = dataset.fillna(0)\n",
        "temp=dataset['Minimum Temperature']\n",
        "precipitation=dataset['Precipitation']"
      ],
      "execution_count": 2,
      "outputs": []
    },
    {
      "cell_type": "code",
      "metadata": {
        "id": "aXlLfqp0f2m_",
        "colab": {
          "base_uri": "https://localhost:8080/",
          "height": 542
        },
        "outputId": "bd087543-7984-4d22-fba7-42a14a5a6d4e"
      },
      "source": [
        "dataset.head(10)"
      ],
      "execution_count": 3,
      "outputs": [
        {
          "output_type": "execute_result",
          "data": {
            "text/html": [
              "<div>\n",
              "<style scoped>\n",
              "    .dataframe tbody tr th:only-of-type {\n",
              "        vertical-align: middle;\n",
              "    }\n",
              "\n",
              "    .dataframe tbody tr th {\n",
              "        vertical-align: top;\n",
              "    }\n",
              "\n",
              "    .dataframe thead th {\n",
              "        text-align: right;\n",
              "    }\n",
              "</style>\n",
              "<table border=\"1\" class=\"dataframe\">\n",
              "  <thead>\n",
              "    <tr style=\"text-align: right;\">\n",
              "      <th></th>\n",
              "      <th>Name</th>\n",
              "      <th>Date time</th>\n",
              "      <th>Maximum Temperature</th>\n",
              "      <th>Minimum Temperature</th>\n",
              "      <th>Temperature</th>\n",
              "      <th>Wind Chill</th>\n",
              "      <th>Heat Index</th>\n",
              "      <th>Precipitation</th>\n",
              "      <th>Snow</th>\n",
              "      <th>Snow Depth</th>\n",
              "      <th>Wind Speed</th>\n",
              "      <th>Wind Direction</th>\n",
              "      <th>Wind Gust</th>\n",
              "      <th>Visibility</th>\n",
              "      <th>Cloud Cover</th>\n",
              "      <th>Relative Humidity</th>\n",
              "      <th>Conditions</th>\n",
              "    </tr>\n",
              "  </thead>\n",
              "  <tbody>\n",
              "    <tr>\n",
              "      <th>0</th>\n",
              "      <td>Eger, Heves, MagyarorszÃ¡g</td>\n",
              "      <td>11/22/2020</td>\n",
              "      <td>4.6</td>\n",
              "      <td>-4.4</td>\n",
              "      <td>-0.7</td>\n",
              "      <td>-8.4</td>\n",
              "      <td>0.0</td>\n",
              "      <td>0.00</td>\n",
              "      <td>0.0</td>\n",
              "      <td>0.0</td>\n",
              "      <td>13.6</td>\n",
              "      <td>225.88</td>\n",
              "      <td>0.0</td>\n",
              "      <td>25.0</td>\n",
              "      <td>0.0</td>\n",
              "      <td>82.82</td>\n",
              "      <td>Clear</td>\n",
              "    </tr>\n",
              "    <tr>\n",
              "      <th>1</th>\n",
              "      <td>Eger, Heves, MagyarorszÃ¡g</td>\n",
              "      <td>11/23/2020</td>\n",
              "      <td>2.3</td>\n",
              "      <td>-1.3</td>\n",
              "      <td>0.9</td>\n",
              "      <td>-3.3</td>\n",
              "      <td>0.0</td>\n",
              "      <td>0.30</td>\n",
              "      <td>0.0</td>\n",
              "      <td>0.0</td>\n",
              "      <td>11.6</td>\n",
              "      <td>209.63</td>\n",
              "      <td>0.0</td>\n",
              "      <td>3.8</td>\n",
              "      <td>0.0</td>\n",
              "      <td>99.44</td>\n",
              "      <td>Rain</td>\n",
              "    </tr>\n",
              "    <tr>\n",
              "      <th>2</th>\n",
              "      <td>Eger, Heves, MagyarorszÃ¡g</td>\n",
              "      <td>11/24/2020</td>\n",
              "      <td>1.2</td>\n",
              "      <td>-2.8</td>\n",
              "      <td>-0.7</td>\n",
              "      <td>-5.8</td>\n",
              "      <td>0.0</td>\n",
              "      <td>0.00</td>\n",
              "      <td>0.0</td>\n",
              "      <td>0.0</td>\n",
              "      <td>10.8</td>\n",
              "      <td>254.63</td>\n",
              "      <td>0.0</td>\n",
              "      <td>0.7</td>\n",
              "      <td>0.9</td>\n",
              "      <td>99.35</td>\n",
              "      <td>Clear</td>\n",
              "    </tr>\n",
              "    <tr>\n",
              "      <th>3</th>\n",
              "      <td>Eger, Heves, MagyarorszÃ¡g</td>\n",
              "      <td>11/25/2020</td>\n",
              "      <td>0.4</td>\n",
              "      <td>-2.1</td>\n",
              "      <td>-0.9</td>\n",
              "      <td>-4.6</td>\n",
              "      <td>0.0</td>\n",
              "      <td>0.00</td>\n",
              "      <td>0.0</td>\n",
              "      <td>0.0</td>\n",
              "      <td>13.1</td>\n",
              "      <td>226.00</td>\n",
              "      <td>0.0</td>\n",
              "      <td>6.8</td>\n",
              "      <td>0.0</td>\n",
              "      <td>99.24</td>\n",
              "      <td>Clear</td>\n",
              "    </tr>\n",
              "    <tr>\n",
              "      <th>4</th>\n",
              "      <td>Eger, Heves, MagyarorszÃ¡g</td>\n",
              "      <td>11/26/2020</td>\n",
              "      <td>0.4</td>\n",
              "      <td>-0.1</td>\n",
              "      <td>0.2</td>\n",
              "      <td>-3.0</td>\n",
              "      <td>0.0</td>\n",
              "      <td>0.00</td>\n",
              "      <td>0.0</td>\n",
              "      <td>0.0</td>\n",
              "      <td>9.5</td>\n",
              "      <td>256.17</td>\n",
              "      <td>0.0</td>\n",
              "      <td>10.3</td>\n",
              "      <td>0.0</td>\n",
              "      <td>99.13</td>\n",
              "      <td>Clear</td>\n",
              "    </tr>\n",
              "    <tr>\n",
              "      <th>5</th>\n",
              "      <td>Eger, Heves, MagyarorszÃ¡g</td>\n",
              "      <td>11/27/2020</td>\n",
              "      <td>1.1</td>\n",
              "      <td>0.1</td>\n",
              "      <td>0.6</td>\n",
              "      <td>-2.8</td>\n",
              "      <td>0.0</td>\n",
              "      <td>1.30</td>\n",
              "      <td>0.0</td>\n",
              "      <td>0.0</td>\n",
              "      <td>8.9</td>\n",
              "      <td>189.13</td>\n",
              "      <td>0.0</td>\n",
              "      <td>9.5</td>\n",
              "      <td>0.0</td>\n",
              "      <td>99.10</td>\n",
              "      <td>Rain</td>\n",
              "    </tr>\n",
              "    <tr>\n",
              "      <th>6</th>\n",
              "      <td>Eger, Heves, MagyarorszÃ¡g</td>\n",
              "      <td>11/28/2020</td>\n",
              "      <td>0.3</td>\n",
              "      <td>-0.5</td>\n",
              "      <td>0.0</td>\n",
              "      <td>-2.9</td>\n",
              "      <td>0.0</td>\n",
              "      <td>0.57</td>\n",
              "      <td>0.0</td>\n",
              "      <td>0.0</td>\n",
              "      <td>7.2</td>\n",
              "      <td>219.58</td>\n",
              "      <td>0.0</td>\n",
              "      <td>16.4</td>\n",
              "      <td>0.0</td>\n",
              "      <td>99.24</td>\n",
              "      <td>Rain</td>\n",
              "    </tr>\n",
              "    <tr>\n",
              "      <th>7</th>\n",
              "      <td>Eger, Heves, MagyarorszÃ¡g</td>\n",
              "      <td>11/29/2020</td>\n",
              "      <td>1.1</td>\n",
              "      <td>-0.9</td>\n",
              "      <td>-0.1</td>\n",
              "      <td>-3.7</td>\n",
              "      <td>0.0</td>\n",
              "      <td>0.00</td>\n",
              "      <td>0.0</td>\n",
              "      <td>0.0</td>\n",
              "      <td>10.8</td>\n",
              "      <td>234.45</td>\n",
              "      <td>0.0</td>\n",
              "      <td>12.7</td>\n",
              "      <td>4.2</td>\n",
              "      <td>97.18</td>\n",
              "      <td>Clear</td>\n",
              "    </tr>\n",
              "    <tr>\n",
              "      <th>8</th>\n",
              "      <td>Eger, Heves, MagyarorszÃ¡g</td>\n",
              "      <td>11/30/2020</td>\n",
              "      <td>1.8</td>\n",
              "      <td>-0.7</td>\n",
              "      <td>0.3</td>\n",
              "      <td>-3.4</td>\n",
              "      <td>0.0</td>\n",
              "      <td>4.43</td>\n",
              "      <td>0.0</td>\n",
              "      <td>0.0</td>\n",
              "      <td>9.8</td>\n",
              "      <td>94.17</td>\n",
              "      <td>0.0</td>\n",
              "      <td>11.9</td>\n",
              "      <td>9.2</td>\n",
              "      <td>95.37</td>\n",
              "      <td>Rain</td>\n",
              "    </tr>\n",
              "    <tr>\n",
              "      <th>9</th>\n",
              "      <td>Eger, Heves, MagyarorszÃ¡g</td>\n",
              "      <td>12/01/2020</td>\n",
              "      <td>0.6</td>\n",
              "      <td>-3.4</td>\n",
              "      <td>-0.6</td>\n",
              "      <td>-6.7</td>\n",
              "      <td>0.0</td>\n",
              "      <td>0.00</td>\n",
              "      <td>0.0</td>\n",
              "      <td>0.0</td>\n",
              "      <td>10.8</td>\n",
              "      <td>112.83</td>\n",
              "      <td>0.0</td>\n",
              "      <td>6.6</td>\n",
              "      <td>0.0</td>\n",
              "      <td>97.61</td>\n",
              "      <td>Clear</td>\n",
              "    </tr>\n",
              "  </tbody>\n",
              "</table>\n",
              "</div>"
            ],
            "text/plain": [
              "                         Name   Date time  ...  Relative Humidity  Conditions\n",
              "0  Eger, Heves, MagyarorszÃ¡g  11/22/2020  ...              82.82       Clear\n",
              "1  Eger, Heves, MagyarorszÃ¡g  11/23/2020  ...              99.44        Rain\n",
              "2  Eger, Heves, MagyarorszÃ¡g  11/24/2020  ...              99.35       Clear\n",
              "3  Eger, Heves, MagyarorszÃ¡g  11/25/2020  ...              99.24       Clear\n",
              "4  Eger, Heves, MagyarorszÃ¡g  11/26/2020  ...              99.13       Clear\n",
              "5  Eger, Heves, MagyarorszÃ¡g  11/27/2020  ...              99.10        Rain\n",
              "6  Eger, Heves, MagyarorszÃ¡g  11/28/2020  ...              99.24        Rain\n",
              "7  Eger, Heves, MagyarorszÃ¡g  11/29/2020  ...              97.18       Clear\n",
              "8  Eger, Heves, MagyarorszÃ¡g  11/30/2020  ...              95.37        Rain\n",
              "9  Eger, Heves, MagyarorszÃ¡g  12/01/2020  ...              97.61       Clear\n",
              "\n",
              "[10 rows x 17 columns]"
            ]
          },
          "metadata": {},
          "execution_count": 3
        }
      ]
    },
    {
      "cell_type": "code",
      "metadata": {
        "id": "8ZY5S6btgXmZ"
      },
      "source": [
        "x = np.array(temp).reshape(-1, 1)\n",
        "y = np.array(precipitation)"
      ],
      "execution_count": 4,
      "outputs": []
    },
    {
      "cell_type": "code",
      "metadata": {
        "id": "5OyMwI4BgyH-"
      },
      "source": [
        "from sklearn.model_selection import train_test_split \n",
        "xtrain, xtest, ytrain, ytest = train_test_split( x, y, test_size=1/3, random_state=0 )"
      ],
      "execution_count": 5,
      "outputs": []
    },
    {
      "cell_type": "code",
      "metadata": {
        "id": "7FzoU0ubhRLp",
        "colab": {
          "base_uri": "https://localhost:8080/"
        },
        "outputId": "101fdab9-7dbf-493d-ed59-ffc9d5308533"
      },
      "source": [
        "from sklearn.linear_model import LinearRegression \n",
        "regressor = LinearRegression()\n",
        "regressor.fit( xtrain, ytrain )"
      ],
      "execution_count": 6,
      "outputs": [
        {
          "output_type": "execute_result",
          "data": {
            "text/plain": [
              "LinearRegression()"
            ]
          },
          "metadata": {},
          "execution_count": 6
        }
      ]
    },
    {
      "cell_type": "code",
      "metadata": {
        "id": "KVWtlJClh8qv",
        "colab": {
          "base_uri": "https://localhost:8080/"
        },
        "outputId": "98b2763e-51b4-4337-eaab-4ea3d3d81b21"
      },
      "source": [
        "regressor.coef_ , regressor.intercept_"
      ],
      "execution_count": 7,
      "outputs": [
        {
          "output_type": "execute_result",
          "data": {
            "text/plain": [
              "(array([0.11305911]), 1.2303492270413905)"
            ]
          },
          "metadata": {},
          "execution_count": 7
        }
      ]
    },
    {
      "cell_type": "code",
      "metadata": {
        "id": "9E_z1x2-il58",
        "colab": {
          "base_uri": "https://localhost:8080/"
        },
        "outputId": "fefaf253-1fca-4f6c-b5b8-086091d1dba1"
      },
      "source": [
        "actualValue = ytrain\n",
        "predictedValue = regressor.predict(xtrain) \n",
        "xtrain[0], actualValue[0] , predictedValue[0]"
      ],
      "execution_count": 8,
      "outputs": [
        {
          "output_type": "execute_result",
          "data": {
            "text/plain": [
              "(array([17.1]), 0.0, 3.1636599478661696)"
            ]
          },
          "metadata": {},
          "execution_count": 8
        }
      ]
    },
    {
      "cell_type": "code",
      "metadata": {
        "id": "-gIFDclrjvex",
        "colab": {
          "base_uri": "https://localhost:8080/"
        },
        "outputId": "7b571f18-9404-4cd0-8a77-d5e53eaaf7e9"
      },
      "source": [
        "regressor.coef_ * xtrain[0] + regressor.intercept_ "
      ],
      "execution_count": 9,
      "outputs": [
        {
          "output_type": "execute_result",
          "data": {
            "text/plain": [
              "array([3.16365995])"
            ]
          },
          "metadata": {},
          "execution_count": 9
        }
      ]
    },
    {
      "cell_type": "code",
      "metadata": {
        "id": "ByRPa0y3kHuB",
        "colab": {
          "base_uri": "https://localhost:8080/"
        },
        "outputId": "47121134-1fa0-4621-d1d6-2c6fa713569a"
      },
      "source": [
        "np.sqrt ( sum( abs( actualValue**2 - predictedValue**2 ) ) ) / len( xtrain ) "
      ],
      "execution_count": 10,
      "outputs": [
        {
          "output_type": "execute_result",
          "data": {
            "text/plain": [
              "0.33374319564164495"
            ]
          },
          "metadata": {},
          "execution_count": 10
        }
      ]
    },
    {
      "cell_type": "code",
      "metadata": {
        "colab": {
          "base_uri": "https://localhost:8080/",
          "height": 295
        },
        "id": "UljRk1xEkj6X",
        "outputId": "bcaff2ea-3a52-4263-ecf8-30ec714b30e4"
      },
      "source": [
        "plt.scatter(xtrain, ytrain, color='orange') \n",
        "\n",
        "prediction = regressor.predict(xtrain)\n",
        "plt.plot(xtrain, prediction , color = 'black')\n",
        "\n",
        "plt.title (\"Jóslás a tanuló adatcsoportra\")\n",
        "plt.xlabel(\"Hőmérséklet Celsiusban\"), plt.ylabel(\"Csapadék\")\n",
        "plt.show()\n"
      ],
      "execution_count": 11,
      "outputs": [
        {
          "output_type": "display_data",
          "data": {
            "image/png": "[encoded data removed]",
            "text/plain": [
              "<Figure size 432x288 with 1 Axes>"
            ]
          },
          "metadata": {
            "needs_background": "light"
          }
        }
      ]
    },
    {
      "cell_type": "code",
      "metadata": {
        "colab": {
          "base_uri": "https://localhost:8080/",
          "height": 295
        },
        "id": "gHbV10KPlaey",
        "outputId": "eecb9d42-8e05-4ea4-db99-b95d2298d071"
      },
      "source": [
        "plt.scatter(xtest, ytest, color= 'orange')\n",
        "\n",
        "plt.plot(xtrain, regressor.predict(xtrain), color = 'black')\n",
        "\n",
        "plt.title (\"Tanuló adatcsoport\")\n",
        "plt.xlabel(\"Hőmérséklet Celsiusban\"), plt.ylabel(\"Csapadék\")\n",
        "plt.show()"
      ],
      "execution_count": 12,
      "outputs": [
        {
          "output_type": "display_data",
          "data": {
            "image/png": "[encoded data removed]",
            "text/plain": [
              "<Figure size 432x288 with 1 Axes>"
            ]
          },
          "metadata": {
            "needs_background": "light"
          }
        }
      ]
    }
  ]
}