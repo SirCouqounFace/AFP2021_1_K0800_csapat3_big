{
  "nbformat": 4,
  "nbformat_minor": 0,
  "metadata": {
    "colab": {
      "name": "Untitled3.ipynb",
      "provenance": [],
      "include_colab_link": true
    },
    "kernelspec": {
      "name": "python3",
      "display_name": "Python 3"
    },
    "language_info": {
      "name": "python"
    }
  },
  "cells": [
    {
      "cell_type": "markdown",
      "metadata": {
        "id": "view-in-github",
        "colab_type": "text"
      },
      "source": [
        "<a href=\"https://colab.research.google.com/github/SirCouqounFace/AFP2021_1_K0800_csapat3_big/blob/NeuralNetwork/code/LinearRegression.ipynb\" target=\"_parent\"><img src=\"https://colab.research.google.com/assets/colab-badge.svg\" alt=\"Open In Colab\"/></a>"
      ]
    },
    {
      "cell_type": "code",
      "metadata": {
        "id": "XGuOxqsDdzyf"
      },
      "source": [
        "import numpy as np  \n",
        "import pandas as pd \n",
        "import matplotlib.pyplot as plt  "
      ],
      "execution_count": null,
      "outputs": []
    },
    {
      "cell_type": "code",
      "metadata": {
        "id": "ndULgkcvfqYL"
      },
      "source": [
        "url = \"https://raw.githubusercontent.com/SirCouqounFace/AFP2021_1_K0800_csapat3_big/nn/history_data.csv\"\n",
        "dataset =pd.read_csv(url,encoding= 'unicode_escape')\n",
        "dataset = dataset.fillna(0)\n",
        "temp=dataset['Minimum Temperature']\n",
        "precipitation=dataset['Precipitation']"
      ],
      "execution_count": null,
      "outputs": []
    },
    {
      "cell_type": "code",
      "metadata": {
        "id": "aXlLfqp0f2m_"
      },
      "source": [
        "dataset.head(10)"
      ],
      "execution_count": null,
      "outputs": []
    },
    {
      "cell_type": "code",
      "metadata": {
        "id": "8ZY5S6btgXmZ"
      },
      "source": [
        "x = np.array(temp).reshape(-1, 1)\n",
        "y = np.array(precipitation)"
      ],
      "execution_count": null,
      "outputs": []
    },
    {
      "cell_type": "code",
      "metadata": {
        "id": "5OyMwI4BgyH-"
      },
      "source": [
        "from sklearn.model_selection import train_test_split \n",
        "xtrain, xtest, ytrain, ytest = train_test_split( x, y, test_size=1/3, random_state=0 )"
      ],
      "execution_count": null,
      "outputs": []
    },
    {
      "cell_type": "code",
      "metadata": {
        "id": "7FzoU0ubhRLp"
      },
      "source": [
        "from sklearn.linear_model import LinearRegression \n",
        "regressor = LinearRegression()\n",
        "regressor.fit( xtrain, ytrain )"
      ],
      "execution_count": null,
      "outputs": []
    },
    {
      "cell_type": "code",
      "metadata": {
        "id": "KVWtlJClh8qv"
      },
      "source": [
        "regressor.coef_ , regressor.intercept_"
      ],
      "execution_count": null,
      "outputs": []
    },
    {
      "cell_type": "code",
      "metadata": {
        "id": "9E_z1x2-il58"
      },
      "source": [
        "actualValue = ytrain\n",
        "predictedValue = regressor.predict(xtrain) \n",
        "xtrain[0], actualValue[0] , predictedValue[0]"
      ],
      "execution_count": null,
      "outputs": []
    },
    {
      "cell_type": "code",
      "metadata": {
        "id": "-gIFDclrjvex"
      },
      "source": [
        "regressor.coef_ * xtrain[0] + regressor.intercept_ "
      ],
      "execution_count": null,
      "outputs": []
    },
    {
      "cell_type": "code",
      "metadata": {
        "id": "ByRPa0y3kHuB"
      },
      "source": [
        "np.sqrt ( sum( abs( actualValue**2 - predictedValue**2 ) ) ) / len( xtrain ) "
      ],
      "execution_count": null,
      "outputs": []
    },
    {
      "cell_type": "code",
      "metadata": {
        "id": "UljRk1xEkj6X"
      },
      "source": [
        "plt.scatter(xtrain, ytrain, color='orange') \n",
        "\n",
        "prediction = regressor.predict(xtrain)\n",
        "plt.plot(xtrain, prediction , color = 'black')\n",
        "\n",
        "plt.title (\"Jóslás a tanuló adatcsoportra\")\n",
        "plt.xlabel(\"Hőmérséklet Celsiusban\"), plt.ylabel(\"Csapadék\")\n",
        "plt.show()\n"
      ],
      "execution_count": null,
      "outputs": []
    }
  ]
}